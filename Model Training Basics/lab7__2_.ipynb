{
  "cells": [
    {
      "cell_type": "markdown",
      "metadata": {
        "id": "DSPCom-KmApV"
      },
      "source": [
        "# Basic Model Training"
      ]
    },
    {
      "cell_type": "markdown",
      "metadata": {
        "id": "PslnzB4Y0xPo"
      },
      "source": [
        "### Setting up"
      ]
    },
    {
      "cell_type": "markdown",
      "source": [
        "**Notebook setup**. Select the \"Edit\" menu, then \"Notebook settings\". Choose \"GPU\" as the hardware accelerator. Check that \"Omit code cell output...\" is unchecked (so that the output is saved).\n",
        "\n"
      ],
      "metadata": {
        "id": "o5O0p0HC03C5"
      }
    },
    {
      "cell_type": "markdown",
      "metadata": {
        "id": "m7KBpffWzlxH"
      },
      "source": [
        "### Pytorch, dataset"
      ]
    },
    {
      "cell_type": "code",
      "execution_count": 1,
      "metadata": {
        "id": "iAve6DCL4JH4"
      },
      "outputs": [],
      "source": [
        "from torchvision import datasets\n",
        "from torchvision.transforms import ToTensor"
      ]
    },
    {
      "cell_type": "code",
      "source": [
        "# Download training data from open datasets.\n",
        "training_data = datasets.FashionMNIST(\n",
        "    root=\"data\",\n",
        "    train=True,\n",
        "    download=True,\n",
        "    transform=ToTensor(),\n",
        ")\n",
        "\n",
        "# Download test data from open datasets.\n",
        "test_data = datasets.FashionMNIST(\n",
        "    root=\"data\",\n",
        "    train=False,\n",
        "    download=True,\n",
        "    transform=ToTensor(),\n",
        ")"
      ],
      "metadata": {
        "id": "BIRVWB6F-QM3"
      },
      "execution_count": 3,
      "outputs": []
    },
    {
      "cell_type": "markdown",
      "metadata": {
        "id": "Oewp-wYg31t9"
      },
      "source": [
        "### Explore the data"
      ]
    },
    {
      "cell_type": "code",
      "source": [
        "print(training_data.data.size())\n",
        "print(training_data.targets.size())\n",
        "print(test_data.data.size())\n",
        "print(test_data.targets.size())"
      ],
      "metadata": {
        "id": "W5hfcRDNQtNF",
        "colab": {
          "base_uri": "https://localhost:8080/"
        },
        "outputId": "18144b47-5f7f-40ec-bb7c-7ff00fea0c7d"
      },
      "execution_count": 4,
      "outputs": [
        {
          "output_type": "stream",
          "name": "stdout",
          "text": [
            "torch.Size([60000, 28, 28])\n",
            "torch.Size([60000])\n",
            "torch.Size([10000, 28, 28])\n",
            "torch.Size([10000])\n"
          ]
        }
      ]
    },
    {
      "cell_type": "markdown",
      "source": [
        "Data of one image"
      ],
      "metadata": {
        "id": "LWeKN_HbRbR5"
      }
    },
    {
      "cell_type": "code",
      "source": [
        "first_image, first_label = training_data[0]\n",
        "first_image = first_image.numpy().squeeze()\n",
        "print(f\"Shape of first image: {first_image.shape}\")\n",
        "print(first_image)"
      ],
      "metadata": {
        "id": "qK5hL0UsRim8",
        "colab": {
          "base_uri": "https://localhost:8080/"
        },
        "outputId": "5e775c6e-bfee-456d-f40b-cd2fe9f0fda6"
      },
      "execution_count": 5,
      "outputs": [
        {
          "output_type": "stream",
          "name": "stdout",
          "text": [
            "Shape of first image: (28, 28)\n",
            "[[0.         0.         0.         0.         0.         0.\n",
            "  0.         0.         0.         0.         0.         0.\n",
            "  0.         0.         0.         0.         0.         0.\n",
            "  0.         0.         0.         0.         0.         0.\n",
            "  0.         0.         0.         0.        ]\n",
            " [0.         0.         0.         0.         0.         0.\n",
            "  0.         0.         0.         0.         0.         0.\n",
            "  0.         0.         0.         0.         0.         0.\n",
            "  0.         0.         0.         0.         0.         0.\n",
            "  0.         0.         0.         0.        ]\n",
            " [0.         0.         0.         0.         0.         0.\n",
            "  0.         0.         0.         0.         0.         0.\n",
            "  0.         0.         0.         0.         0.         0.\n",
            "  0.         0.         0.         0.         0.         0.\n",
            "  0.         0.         0.         0.        ]\n",
            " [0.         0.         0.         0.         0.         0.\n",
            "  0.         0.         0.         0.         0.         0.\n",
            "  0.00392157 0.         0.         0.05098039 0.28627452 0.\n",
            "  0.         0.00392157 0.01568628 0.         0.         0.\n",
            "  0.         0.00392157 0.00392157 0.        ]\n",
            " [0.         0.         0.         0.         0.         0.\n",
            "  0.         0.         0.         0.         0.         0.\n",
            "  0.01176471 0.         0.14117648 0.53333336 0.49803922 0.24313726\n",
            "  0.21176471 0.         0.         0.         0.00392157 0.01176471\n",
            "  0.01568628 0.         0.         0.01176471]\n",
            " [0.         0.         0.         0.         0.         0.\n",
            "  0.         0.         0.         0.         0.         0.\n",
            "  0.02352941 0.         0.4        0.8        0.6901961  0.5254902\n",
            "  0.5647059  0.48235294 0.09019608 0.         0.         0.\n",
            "  0.         0.04705882 0.03921569 0.        ]\n",
            " [0.         0.         0.         0.         0.         0.\n",
            "  0.         0.         0.         0.         0.         0.\n",
            "  0.         0.         0.60784316 0.9254902  0.8117647  0.69803923\n",
            "  0.41960785 0.6117647  0.6313726  0.42745098 0.2509804  0.09019608\n",
            "  0.3019608  0.50980395 0.28235295 0.05882353]\n",
            " [0.         0.         0.         0.         0.         0.\n",
            "  0.         0.         0.         0.         0.         0.00392157\n",
            "  0.         0.27058825 0.8117647  0.8745098  0.85490197 0.84705883\n",
            "  0.84705883 0.6392157  0.49803922 0.4745098  0.47843137 0.57254905\n",
            "  0.5529412  0.34509805 0.6745098  0.25882354]\n",
            " [0.         0.         0.         0.         0.         0.\n",
            "  0.         0.         0.         0.00392157 0.00392157 0.00392157\n",
            "  0.         0.78431374 0.9098039  0.9098039  0.9137255  0.8980392\n",
            "  0.8745098  0.8745098  0.84313726 0.8352941  0.6431373  0.49803922\n",
            "  0.48235294 0.76862746 0.8980392  0.        ]\n",
            " [0.         0.         0.         0.         0.         0.\n",
            "  0.         0.         0.         0.         0.         0.\n",
            "  0.         0.7176471  0.88235295 0.84705883 0.8745098  0.89411765\n",
            "  0.92156863 0.8901961  0.8784314  0.87058824 0.8784314  0.8666667\n",
            "  0.8745098  0.9607843  0.6784314  0.        ]\n",
            " [0.         0.         0.         0.         0.         0.\n",
            "  0.         0.         0.         0.         0.         0.\n",
            "  0.         0.75686276 0.89411765 0.85490197 0.8352941  0.7764706\n",
            "  0.7058824  0.83137256 0.8235294  0.827451   0.8352941  0.8745098\n",
            "  0.8627451  0.9529412  0.7921569  0.        ]\n",
            " [0.         0.         0.         0.         0.         0.\n",
            "  0.         0.         0.         0.00392157 0.01176471 0.\n",
            "  0.04705882 0.85882354 0.8627451  0.83137256 0.85490197 0.7529412\n",
            "  0.6627451  0.8901961  0.8156863  0.85490197 0.8784314  0.83137256\n",
            "  0.8862745  0.77254903 0.81960785 0.20392157]\n",
            " [0.         0.         0.         0.         0.         0.\n",
            "  0.         0.         0.         0.         0.02352941 0.\n",
            "  0.3882353  0.95686275 0.87058824 0.8627451  0.85490197 0.79607844\n",
            "  0.7764706  0.8666667  0.84313726 0.8352941  0.87058824 0.8627451\n",
            "  0.9607843  0.46666667 0.654902   0.21960784]\n",
            " [0.         0.         0.         0.         0.         0.\n",
            "  0.         0.         0.         0.01568628 0.         0.\n",
            "  0.21568628 0.9254902  0.89411765 0.9019608  0.89411765 0.9411765\n",
            "  0.9098039  0.8352941  0.85490197 0.8745098  0.91764706 0.8509804\n",
            "  0.8509804  0.81960785 0.36078432 0.        ]\n",
            " [0.         0.         0.00392157 0.01568628 0.02352941 0.02745098\n",
            "  0.00784314 0.         0.         0.         0.         0.\n",
            "  0.92941177 0.8862745  0.8509804  0.8745098  0.87058824 0.85882354\n",
            "  0.87058824 0.8666667  0.84705883 0.8745098  0.8980392  0.84313726\n",
            "  0.85490197 1.         0.3019608  0.        ]\n",
            " [0.         0.01176471 0.         0.         0.         0.\n",
            "  0.         0.         0.         0.24313726 0.5686275  0.8\n",
            "  0.89411765 0.8117647  0.8352941  0.8666667  0.85490197 0.8156863\n",
            "  0.827451   0.85490197 0.8784314  0.8745098  0.85882354 0.84313726\n",
            "  0.8784314  0.95686275 0.62352943 0.        ]\n",
            " [0.         0.         0.         0.         0.07058824 0.17254902\n",
            "  0.32156864 0.41960785 0.7411765  0.89411765 0.8627451  0.87058824\n",
            "  0.8509804  0.8862745  0.78431374 0.8039216  0.827451   0.9019608\n",
            "  0.8784314  0.91764706 0.6901961  0.7372549  0.98039216 0.972549\n",
            "  0.9137255  0.93333334 0.84313726 0.        ]\n",
            " [0.         0.22352941 0.73333335 0.8156863  0.8784314  0.8666667\n",
            "  0.8784314  0.8156863  0.8        0.8392157  0.8156863  0.81960785\n",
            "  0.78431374 0.62352943 0.9607843  0.75686276 0.80784315 0.8745098\n",
            "  1.         1.         0.8666667  0.91764706 0.8666667  0.827451\n",
            "  0.8627451  0.9098039  0.9647059  0.        ]\n",
            " [0.01176471 0.7921569  0.89411765 0.8784314  0.8666667  0.827451\n",
            "  0.827451   0.8392157  0.8039216  0.8039216  0.8039216  0.8627451\n",
            "  0.9411765  0.3137255  0.5882353  1.         0.8980392  0.8666667\n",
            "  0.7372549  0.6039216  0.7490196  0.8235294  0.8        0.81960785\n",
            "  0.87058824 0.89411765 0.88235295 0.        ]\n",
            " [0.38431373 0.9137255  0.7764706  0.8235294  0.87058824 0.8980392\n",
            "  0.8980392  0.91764706 0.9764706  0.8627451  0.7607843  0.84313726\n",
            "  0.8509804  0.94509804 0.25490198 0.28627452 0.41568628 0.45882353\n",
            "  0.65882355 0.85882354 0.8666667  0.84313726 0.8509804  0.8745098\n",
            "  0.8745098  0.8784314  0.8980392  0.11372549]\n",
            " [0.29411766 0.8        0.83137256 0.8        0.75686276 0.8039216\n",
            "  0.827451   0.88235295 0.84705883 0.7254902  0.77254903 0.80784315\n",
            "  0.7764706  0.8352941  0.9411765  0.7647059  0.8901961  0.9607843\n",
            "  0.9372549  0.8745098  0.85490197 0.83137256 0.81960785 0.87058824\n",
            "  0.8627451  0.8666667  0.9019608  0.2627451 ]\n",
            " [0.1882353  0.79607844 0.7176471  0.7607843  0.8352941  0.77254903\n",
            "  0.7254902  0.74509805 0.7607843  0.7529412  0.7921569  0.8392157\n",
            "  0.85882354 0.8666667  0.8627451  0.9254902  0.88235295 0.84705883\n",
            "  0.78039217 0.80784315 0.7294118  0.70980394 0.69411767 0.6745098\n",
            "  0.70980394 0.8039216  0.80784315 0.4509804 ]\n",
            " [0.         0.47843137 0.85882354 0.75686276 0.7019608  0.67058825\n",
            "  0.7176471  0.76862746 0.8        0.8235294  0.8352941  0.8117647\n",
            "  0.827451   0.8235294  0.78431374 0.76862746 0.7607843  0.7490196\n",
            "  0.7647059  0.7490196  0.7764706  0.7529412  0.6901961  0.6117647\n",
            "  0.654902   0.69411767 0.8235294  0.36078432]\n",
            " [0.         0.         0.2901961  0.7411765  0.83137256 0.7490196\n",
            "  0.6862745  0.6745098  0.6862745  0.70980394 0.7254902  0.7372549\n",
            "  0.7411765  0.7372549  0.75686276 0.7764706  0.8        0.81960785\n",
            "  0.8235294  0.8235294  0.827451   0.7372549  0.7372549  0.7607843\n",
            "  0.7529412  0.84705883 0.6666667  0.        ]\n",
            " [0.00784314 0.         0.         0.         0.25882354 0.78431374\n",
            "  0.87058824 0.92941177 0.9372549  0.9490196  0.9647059  0.9529412\n",
            "  0.95686275 0.8666667  0.8627451  0.75686276 0.7490196  0.7019608\n",
            "  0.7137255  0.7137255  0.70980394 0.6901961  0.6509804  0.65882355\n",
            "  0.3882353  0.22745098 0.         0.        ]\n",
            " [0.         0.         0.         0.         0.         0.\n",
            "  0.         0.15686275 0.23921569 0.17254902 0.28235295 0.16078432\n",
            "  0.13725491 0.         0.         0.         0.         0.\n",
            "  0.         0.         0.         0.         0.         0.\n",
            "  0.         0.         0.         0.        ]\n",
            " [0.         0.         0.         0.         0.         0.\n",
            "  0.         0.         0.         0.         0.         0.\n",
            "  0.         0.         0.         0.         0.         0.\n",
            "  0.         0.         0.         0.         0.         0.\n",
            "  0.         0.         0.         0.        ]\n",
            " [0.         0.         0.         0.         0.         0.\n",
            "  0.         0.         0.         0.         0.         0.\n",
            "  0.         0.         0.         0.         0.         0.\n",
            "  0.         0.         0.         0.         0.         0.\n",
            "  0.         0.         0.         0.        ]]\n"
          ]
        }
      ]
    },
    {
      "cell_type": "markdown",
      "source": [
        "And this is what the image looks like (a shoe?)"
      ],
      "metadata": {
        "id": "6hIlZOVySIxV"
      }
    },
    {
      "cell_type": "code",
      "source": [
        "import matplotlib.pyplot as plt\n",
        "plt.imshow(first_image, cmap='gray')"
      ],
      "metadata": {
        "id": "sCZoxyQcSL3P",
        "colab": {
          "base_uri": "https://localhost:8080/",
          "height": 447
        },
        "outputId": "41905b56-0bea-47d3-a8d3-46e1c8e55bbd"
      },
      "execution_count": 6,
      "outputs": [
        {
          "output_type": "execute_result",
          "data": {
            "text/plain": [
              "<matplotlib.image.AxesImage at 0x7ce895dc2e60>"
            ]
          },
          "metadata": {},
          "execution_count": 6
        },
        {
          "output_type": "display_data",
          "data": {
            "text/plain": [
              "<Figure size 640x480 with 1 Axes>"
            ],
            "image/png": "[encoded data removed]"
          },
          "metadata": {}
        }
      ]
    },
    {
      "cell_type": "markdown",
      "source": [
        "The label of the image (see the list of labels at https://github.com/zalandoresearch/fashion-mnist)"
      ],
      "metadata": {
        "id": "OiejkO3OTh0S"
      }
    },
    {
      "cell_type": "code",
      "source": [
        "print(f\"Label of first image: {first_label}\")"
      ],
      "metadata": {
        "id": "IGyqRUNMTuU3",
        "colab": {
          "base_uri": "https://localhost:8080/"
        },
        "outputId": "6e1b30d0-1440-4db7-fc3a-fc224e5dfce9"
      },
      "execution_count": 7,
      "outputs": [
        {
          "output_type": "stream",
          "name": "stdout",
          "text": [
            "Label of first image: 9\n"
          ]
        }
      ]
    },
    {
      "cell_type": "markdown",
      "source": [
        "Put you code to create, train and test the model below"
      ],
      "metadata": {
        "id": "FRLdpO4AWXYs"
      }
    },
    {
      "cell_type": "code",
      "source": [
        "import torch\n",
        "\n",
        "device = (\n",
        "    \"cuda\"\n",
        "    if torch.cuda.is_available()\n",
        "    else \"mps\"\n",
        "    if torch.backends.mps.is_available()\n",
        "    else \"cpu\"\n",
        ")\n",
        "print(f\"Using {device} device\")"
      ],
      "metadata": {
        "id": "NW3_QC9d59d5",
        "colab": {
          "base_uri": "https://localhost:8080/"
        },
        "outputId": "3a087b8a-1772-4fa5-dbc8-3f5df180ab70"
      },
      "execution_count": 8,
      "outputs": [
        {
          "output_type": "stream",
          "name": "stdout",
          "text": [
            "Using cuda device\n"
          ]
        }
      ]
    },
    {
      "cell_type": "code",
      "source": [
        "from torch import nn\n",
        "import torch.nn.functional as F\n",
        "\n",
        "class CNN(nn.Module):\n",
        "    def __init__(self):\n",
        "        super().__init__()\n",
        "        self.cnn_stack = nn.Sequential(\n",
        "            nn.Conv2d(in_channels=1, out_channels=32, kernel_size=3, padding=1),\n",
        "            nn.ReLU(),\n",
        "            nn.MaxPool2d(kernel_size=2, stride=2),\n",
        "            nn.Conv2d(in_channels=32, out_channels=64, kernel_size=3, padding=1),\n",
        "            nn.ReLU(),\n",
        "            nn.MaxPool2d(kernel_size=2, stride=2),\n",
        "            nn.Conv2d(in_channels=64, out_channels=64, kernel_size=3, padding=1),\n",
        "            nn.ReLU(),\n",
        "            nn.Flatten(),\n",
        "            nn.Linear(64 * 7 * 7, 64),\n",
        "            nn.ReLU(),\n",
        "            nn.Linear(64, 10),\n",
        "            nn.Softmax(dim=1)\n",
        "        )\n",
        "\n",
        "    def forward(self, x):\n",
        "        return self.cnn_stack(x)\n",
        "\n",
        "model = CNN().to(device)"
      ],
      "metadata": {
        "id": "B6M3Eju9AMso"
      },
      "execution_count": 9,
      "outputs": []
    },
    {
      "cell_type": "code",
      "source": [
        "from torch.utils.data import DataLoader\n",
        "\n",
        "batch_size = 64\n",
        "\n",
        "train_dataloader = DataLoader(training_data, batch_size=batch_size)\n",
        "test_dataloader = DataLoader(test_data, batch_size=batch_size)\n",
        "\n",
        "for X, y in test_dataloader:\n",
        "    print(f\"Shape of X [N, C, H, W]: {X.shape}\")\n",
        "    print(f\"Shape of y: {y.shape} {y.dtype}\")\n",
        "    break"
      ],
      "metadata": {
        "colab": {
          "base_uri": "https://localhost:8080/"
        },
        "id": "xPSEix21AXW_",
        "outputId": "533b742a-90fc-4147-ba36-996a79cc464f"
      },
      "execution_count": 10,
      "outputs": [
        {
          "output_type": "stream",
          "name": "stdout",
          "text": [
            "Shape of X [N, C, H, W]: torch.Size([64, 1, 28, 28])\n",
            "Shape of y: torch.Size([64]) torch.int64\n"
          ]
        }
      ]
    },
    {
      "cell_type": "code",
      "source": [
        "import torch.optim as optim\n",
        "\n",
        "loss_fn = nn.CrossEntropyLoss()\n",
        "optimizer = optim.Adam(model.parameters())\n",
        "\n",
        "def train(dataloader, model, loss_fn, optimizer):\n",
        "    size = len(dataloader.dataset)\n",
        "    model.train()\n",
        "    for batch, (X, y) in enumerate(dataloader):\n",
        "        X, y = X.to(device), y.to(device)\n",
        "\n",
        "        # Compute prediction error\n",
        "        pred = model(X)\n",
        "        loss = loss_fn(pred, y)\n",
        "\n",
        "        # Backpropagation\n",
        "        loss.backward()\n",
        "        optimizer.step()\n",
        "        optimizer.zero_grad()\n",
        "\n",
        "        if batch % 100 == 0:\n",
        "            loss, current = loss.item(), (batch + 1) * len(X)\n",
        "            print(f\"loss: {loss:>7f}  [{current:>5d}/{size:>5d}]\")"
      ],
      "metadata": {
        "id": "zcAstZO7Aaer"
      },
      "execution_count": 11,
      "outputs": []
    },
    {
      "cell_type": "code",
      "source": [
        "epochs = 15\n",
        "for t in range(epochs):\n",
        "    print(f\"Epoch {t+1}\\n-------------------------------\")\n",
        "    train(train_dataloader, model, loss_fn, optimizer)\n",
        "print(\"Done!\")"
      ],
      "metadata": {
        "colab": {
          "base_uri": "https://localhost:8080/"
        },
        "id": "ADPfVxPEAfOq",
        "outputId": "b462104f-8065-40eb-90b9-b9e843b207a1"
      },
      "execution_count": 12,
      "outputs": [
        {
          "output_type": "stream",
          "name": "stdout",
          "text": [
            "Epoch 1\n",
            "-------------------------------\n",
            "loss: 2.303889  [   64/60000]\n",
            "loss: 1.785919  [ 6464/60000]\n",
            "loss: 1.616687  [12864/60000]\n",
            "loss: 1.778950  [19264/60000]\n",
            "loss: 1.748519  [25664/60000]\n",
            "loss: 1.658858  [32064/60000]\n",
            "loss: 1.679977  [38464/60000]\n",
            "loss: 1.617428  [44864/60000]\n",
            "loss: 1.642206  [51264/60000]\n",
            "loss: 1.644696  [57664/60000]\n",
            "Epoch 2\n",
            "-------------------------------\n",
            "loss: 1.588386  [   64/60000]\n",
            "loss: 1.639509  [ 6464/60000]\n",
            "loss: 1.585485  [12864/60000]\n",
            "loss: 1.658905  [19264/60000]\n",
            "loss: 1.636741  [25664/60000]\n",
            "loss: 1.668792  [32064/60000]\n",
            "loss: 1.612468  [38464/60000]\n",
            "loss: 1.641637  [44864/60000]\n",
            "loss: 1.623976  [51264/60000]\n",
            "loss: 1.631420  [57664/60000]\n",
            "Epoch 3\n",
            "-------------------------------\n",
            "loss: 1.541722  [   64/60000]\n",
            "loss: 1.633116  [ 6464/60000]\n",
            "loss: 1.535841  [12864/60000]\n",
            "loss: 1.620762  [19264/60000]\n",
            "loss: 1.576736  [25664/60000]\n",
            "loss: 1.646479  [32064/60000]\n",
            "loss: 1.569480  [38464/60000]\n",
            "loss: 1.610365  [44864/60000]\n",
            "loss: 1.572989  [51264/60000]\n",
            "loss: 1.610254  [57664/60000]\n",
            "Epoch 4\n",
            "-------------------------------\n",
            "loss: 1.563236  [   64/60000]\n",
            "loss: 1.540981  [ 6464/60000]\n",
            "loss: 1.550736  [12864/60000]\n",
            "loss: 1.630117  [19264/60000]\n",
            "loss: 1.644031  [25664/60000]\n",
            "loss: 1.628334  [32064/60000]\n",
            "loss: 1.583789  [38464/60000]\n",
            "loss: 1.631626  [44864/60000]\n",
            "loss: 1.602462  [51264/60000]\n",
            "loss: 1.581974  [57664/60000]\n",
            "Epoch 5\n",
            "-------------------------------\n",
            "loss: 1.542759  [   64/60000]\n",
            "loss: 1.553119  [ 6464/60000]\n",
            "loss: 1.503235  [12864/60000]\n",
            "loss: 1.608279  [19264/60000]\n",
            "loss: 1.564686  [25664/60000]\n",
            "loss: 1.646476  [32064/60000]\n",
            "loss: 1.568069  [38464/60000]\n",
            "loss: 1.641200  [44864/60000]\n",
            "loss: 1.575330  [51264/60000]\n",
            "loss: 1.533654  [57664/60000]\n",
            "Epoch 6\n",
            "-------------------------------\n",
            "loss: 1.538669  [   64/60000]\n",
            "loss: 1.548853  [ 6464/60000]\n",
            "loss: 1.544677  [12864/60000]\n",
            "loss: 1.573756  [19264/60000]\n",
            "loss: 1.575456  [25664/60000]\n",
            "loss: 1.661051  [32064/60000]\n",
            "loss: 1.558984  [38464/60000]\n",
            "loss: 1.573836  [44864/60000]\n",
            "loss: 1.575605  [51264/60000]\n",
            "loss: 1.568303  [57664/60000]\n",
            "Epoch 7\n",
            "-------------------------------\n",
            "loss: 1.552989  [   64/60000]\n",
            "loss: 1.534885  [ 6464/60000]\n",
            "loss: 1.546274  [12864/60000]\n",
            "loss: 1.625383  [19264/60000]\n",
            "loss: 1.561958  [25664/60000]\n",
            "loss: 1.639838  [32064/60000]\n",
            "loss: 1.544593  [38464/60000]\n",
            "loss: 1.599658  [44864/60000]\n",
            "loss: 1.557168  [51264/60000]\n",
            "loss: 1.556126  [57664/60000]\n",
            "Epoch 8\n",
            "-------------------------------\n",
            "loss: 1.523469  [   64/60000]\n",
            "loss: 1.563883  [ 6464/60000]\n",
            "loss: 1.530909  [12864/60000]\n",
            "loss: 1.624557  [19264/60000]\n",
            "loss: 1.575565  [25664/60000]\n",
            "loss: 1.593451  [32064/60000]\n",
            "loss: 1.577826  [38464/60000]\n",
            "loss: 1.581912  [44864/60000]\n",
            "loss: 1.566919  [51264/60000]\n",
            "loss: 1.557951  [57664/60000]\n",
            "Epoch 9\n",
            "-------------------------------\n",
            "loss: 1.523390  [   64/60000]\n",
            "loss: 1.569966  [ 6464/60000]\n",
            "loss: 1.531348  [12864/60000]\n",
            "loss: 1.641354  [19264/60000]\n",
            "loss: 1.561950  [25664/60000]\n",
            "loss: 1.598610  [32064/60000]\n",
            "loss: 1.559351  [38464/60000]\n",
            "loss: 1.586370  [44864/60000]\n",
            "loss: 1.584472  [51264/60000]\n",
            "loss: 1.539557  [57664/60000]\n",
            "Epoch 10\n",
            "-------------------------------\n",
            "loss: 1.518277  [   64/60000]\n",
            "loss: 1.542123  [ 6464/60000]\n",
            "loss: 1.498498  [12864/60000]\n",
            "loss: 1.607609  [19264/60000]\n",
            "loss: 1.569951  [25664/60000]\n",
            "loss: 1.601750  [32064/60000]\n",
            "loss: 1.557090  [38464/60000]\n",
            "loss: 1.578823  [44864/60000]\n",
            "loss: 1.554427  [51264/60000]\n",
            "loss: 1.533521  [57664/60000]\n",
            "Epoch 11\n",
            "-------------------------------\n",
            "loss: 1.543507  [   64/60000]\n",
            "loss: 1.529210  [ 6464/60000]\n",
            "loss: 1.503258  [12864/60000]\n",
            "loss: 1.602540  [19264/60000]\n",
            "loss: 1.584657  [25664/60000]\n",
            "loss: 1.595026  [32064/60000]\n",
            "loss: 1.554693  [38464/60000]\n",
            "loss: 1.622266  [44864/60000]\n",
            "loss: 1.567284  [51264/60000]\n",
            "loss: 1.557377  [57664/60000]\n",
            "Epoch 12\n",
            "-------------------------------\n",
            "loss: 1.509106  [   64/60000]\n",
            "loss: 1.547112  [ 6464/60000]\n",
            "loss: 1.519236  [12864/60000]\n",
            "loss: 1.569304  [19264/60000]\n",
            "loss: 1.580262  [25664/60000]\n",
            "loss: 1.580362  [32064/60000]\n",
            "loss: 1.566017  [38464/60000]\n",
            "loss: 1.580235  [44864/60000]\n",
            "loss: 1.554384  [51264/60000]\n",
            "loss: 1.562055  [57664/60000]\n",
            "Epoch 13\n",
            "-------------------------------\n",
            "loss: 1.519559  [   64/60000]\n",
            "loss: 1.527236  [ 6464/60000]\n",
            "loss: 1.495754  [12864/60000]\n",
            "loss: 1.556445  [19264/60000]\n",
            "loss: 1.588124  [25664/60000]\n",
            "loss: 1.586440  [32064/60000]\n",
            "loss: 1.558861  [38464/60000]\n",
            "loss: 1.567751  [44864/60000]\n",
            "loss: 1.555351  [51264/60000]\n",
            "loss: 1.539539  [57664/60000]\n",
            "Epoch 14\n",
            "-------------------------------\n",
            "loss: 1.508050  [   64/60000]\n",
            "loss: 1.528293  [ 6464/60000]\n",
            "loss: 1.492771  [12864/60000]\n",
            "loss: 1.551528  [19264/60000]\n",
            "loss: 1.547345  [25664/60000]\n",
            "loss: 1.586062  [32064/60000]\n",
            "loss: 1.569158  [38464/60000]\n",
            "loss: 1.569920  [44864/60000]\n",
            "loss: 1.570900  [51264/60000]\n",
            "loss: 1.522463  [57664/60000]\n",
            "Epoch 15\n",
            "-------------------------------\n",
            "loss: 1.508088  [   64/60000]\n",
            "loss: 1.522620  [ 6464/60000]\n",
            "loss: 1.505310  [12864/60000]\n",
            "loss: 1.536483  [19264/60000]\n",
            "loss: 1.539439  [25664/60000]\n",
            "loss: 1.569144  [32064/60000]\n",
            "loss: 1.555493  [38464/60000]\n",
            "loss: 1.559810  [44864/60000]\n",
            "loss: 1.554678  [51264/60000]\n",
            "loss: 1.561826  [57664/60000]\n",
            "Done!\n"
          ]
        }
      ]
    },
    {
      "cell_type": "code",
      "source": [
        "model.eval()\n",
        "\n",
        "all_outputs = []\n",
        "all_labels = []\n",
        "\n",
        "with torch.no_grad():\n",
        "    for inputs, labels in test_dataloader:\n",
        "        outputs = model(inputs.to(device))\n",
        "        all_outputs.append(outputs)\n",
        "        all_labels.append(labels)\n",
        "\n",
        "all_outputs = torch.cat(all_outputs, dim=0)\n",
        "all_labels = torch.cat(all_labels, dim=0)"
      ],
      "metadata": {
        "id": "mUL712aPBCQg"
      },
      "execution_count": 13,
      "outputs": []
    },
    {
      "cell_type": "code",
      "source": [
        "print(all_outputs[0])\n",
        "print(torch.sum(all_outputs[0]))"
      ],
      "metadata": {
        "colab": {
          "base_uri": "https://localhost:8080/"
        },
        "id": "PaCgbYIpBFjx",
        "outputId": "c160fdf9-14d8-4012-d25a-91128189c3e1"
      },
      "execution_count": 14,
      "outputs": [
        {
          "output_type": "stream",
          "name": "stdout",
          "text": [
            "tensor([1.8849e-27, 4.9017e-32, 1.8011e-33, 7.1197e-31, 2.6961e-42, 4.3520e-27,\n",
            "        4.1512e-27, 2.1204e-28, 6.1837e-28, 1.0000e+00], device='cuda:0')\n",
            "tensor(1., device='cuda:0')\n"
          ]
        }
      ]
    },
    {
      "cell_type": "code",
      "source": [
        "first_image, _ = test_data[0]\n",
        "first_image = first_image.numpy().squeeze()\n",
        "plt.imshow(first_image, cmap='gray')"
      ],
      "metadata": {
        "colab": {
          "base_uri": "https://localhost:8080/",
          "height": 447
        },
        "id": "DnyOolzmBIAB",
        "outputId": "d971218c-5b34-4c6d-fee3-0e33d8ec5a9f"
      },
      "execution_count": 15,
      "outputs": [
        {
          "output_type": "execute_result",
          "data": {
            "text/plain": [
              "<matplotlib.image.AxesImage at 0x7ce8960a2cb0>"
            ]
          },
          "metadata": {},
          "execution_count": 15
        },
        {
          "output_type": "display_data",
          "data": {
            "text/plain": [
              "<Figure size 640x480 with 1 Axes>"
            ],
            "image/png": "[encoded data removed]"
          },
          "metadata": {}
        }
      ]
    },
    {
      "cell_type": "code",
      "source": [
        "print(torch.argmax(all_outputs[0]))\n",
        "print(all_labels[0])"
      ],
      "metadata": {
        "colab": {
          "base_uri": "https://localhost:8080/"
        },
        "id": "F-1xGfZlBLBs",
        "outputId": "b9ebcc4f-6a8a-4620-aa28-37088119b1f7"
      },
      "execution_count": 16,
      "outputs": [
        {
          "output_type": "stream",
          "name": "stdout",
          "text": [
            "tensor(9, device='cuda:0')\n",
            "tensor(9)\n"
          ]
        }
      ]
    },
    {
      "cell_type": "code",
      "source": [
        "all_preds = torch.argmax(all_outputs, dim=1)\n",
        "correct = torch.sum(all_preds.cpu() == all_labels)\n",
        "print(\"Correct classes: {} of {} (accuracy: {})\".format(correct, 10000, correct/10000))"
      ],
      "metadata": {
        "colab": {
          "base_uri": "https://localhost:8080/"
        },
        "id": "0inuoKTeBO9S",
        "outputId": "0b57e875-caed-41f7-ebdd-fca3ca6f2323"
      },
      "execution_count": 17,
      "outputs": [
        {
          "output_type": "stream",
          "name": "stdout",
          "text": [
            "Correct classes: 9044 of 10000 (accuracy: 0.9043999910354614)\n"
          ]
        }
      ]
    }
  ],
  "metadata": {
    "accelerator": "GPU",
    "colab": {
      "collapsed_sections": [
        "x4HI2mpwlrcn"
      ],
      "provenance": [],
      "gpuType": "T4"
    },
    "kernelspec": {
      "display_name": "Python 3",
      "name": "python3"
    }
  },
  "nbformat": 4,
  "nbformat_minor": 0
}